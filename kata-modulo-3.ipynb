{
 "cells": [
  {
   "cell_type": "markdown",
   "metadata": {},
   "source": [
    "## Escribir declaraciones if, else y elif\n",
    "Escribir una lógica condicional que imprima una advertencia si un asteroide se acerca a la Tierra demasiado rápido. La velocidad del asteroide varía dependiendo de lo cerca que esté del Sol, y cualquier velocidad superior a 25 kilómetros por segundo (km/s) merece una advertencia.\n",
    "\n",
    "Un asteroide se acerca, y viaja a una velocidad de 49 km/s."
   ]
  },
  {
   "cell_type": "code",
   "execution_count": 3,
   "metadata": {},
   "outputs": [
    {
     "name": "stdout",
     "output_type": "stream",
     "text": [
      "¡ALERTA! Se acerca un asteroide con una velocidad mayor de 25 km/s.\n"
     ]
    }
   ],
   "source": [
    "v = 49\n",
    "\n",
    "if v > 25:\n",
    "    print(\"¡ALERTA! Se acerca un asteroide con una velocidad mayor de 25 km/s.\")\n",
    "else:\n",
    "    print(\"Todo está bajo control.\")"
   ]
  },
  {
   "cell_type": "markdown",
   "metadata": {},
   "source": [
    "Si un asteroide entra en la atmósfera de la Tierra a una velocidad mayor o igual a 20 km/s, a veces produce un rayo de luz que se puede ver desde la Tierra. Escribir la lógica condicional que usa declaraciones if, else, y elif para alertar a las personas de todo el mundo que deben buscar un asteroide en el cielo. ¡Hay uno que se dirige a la tierra ahora a una velocidad de 19 km/s!"
   ]
  },
  {
   "cell_type": "code",
   "execution_count": 4,
   "metadata": {},
   "outputs": [
    {
     "name": "stdout",
     "output_type": "stream",
     "text": [
      "No hay nada por mirar.\n"
     ]
    }
   ],
   "source": [
    "v = 19\n",
    "\n",
    "if v > 20:\n",
    "    print(\"Busque un asteroide en el cielo, producirá un rayo de luz.\")\n",
    "elif v == 20:\n",
    "    print(\"Busque un asteroide en el cielo, producirá un rayo de luz.\")\n",
    "else:\n",
    "    print(\"No hay nada por mirar.\")"
   ]
  },
  {
   "cell_type": "markdown",
   "metadata": {},
   "source": [
    "## Uso de operadores and y or\n",
    "\n",
    "Si una pieza de un asteroide que es más grande que 25 metros pero más pequeña que 1000 metros golpeara la Tierra, causaría mucho daño.\n",
    "\n",
    "La velocidad del asteroide varía en función de lo cerca que esté del sol, y cualquier velocidad superior a 25 kilómetros por segundo (km/s) merece una advertencia.\n",
    "\n",
    "Si un asteroide entra en la atmósfera de la Tierra a una velocidad mayor o igual a 20 km/s, a veces produce un rayo de luz que se puede ver desde la Tierra.\n",
    "\n",
    "Usando toda esta información, escribe un programa que emita la advertencia o información correcta a la gente de la Tierra, según la velocidad y el tamaño de un asteroide."
   ]
  },
  {
   "cell_type": "code",
   "execution_count": 19,
   "metadata": {},
   "outputs": [
    {
     "name": "stdout",
     "output_type": "stream",
     "text": [
      "No existe algún problema.\n"
     ]
    }
   ],
   "source": [
    "v = 25\n",
    "t = 40\n",
    "\n",
    "if v > 25 and t > 25:\n",
    "    print(\"¡ALERTA! Se aproxima un asteoride peligroso.\")\n",
    "elif v >= 20:\n",
    "    print(\"Busque un asteroide en el cielo, emitirá un rayo de luz.\")\n",
    "elif t < 25:\n",
    "    print(\"No existe algún problema.\")\n",
    "else:\n",
    "    print(\"No hay nada por mirar.\")\n"
   ]
  }
 ],
 "metadata": {
  "interpreter": {
   "hash": "4ea1560fa421ae55bbfc646becbc3a9c1974071071987df8a3e67666738367ad"
  },
  "kernelspec": {
   "display_name": "Python 3.9.10 64-bit (windows store)",
   "language": "python",
   "name": "python3"
  },
  "language_info": {
   "codemirror_mode": {
    "name": "ipython",
    "version": 3
   },
   "file_extension": ".py",
   "mimetype": "text/x-python",
   "name": "python",
   "nbconvert_exporter": "python",
   "pygments_lexer": "ipython3",
   "version": "3.9.10"
  },
  "orig_nbformat": 4
 },
 "nbformat": 4,
 "nbformat_minor": 2
}
